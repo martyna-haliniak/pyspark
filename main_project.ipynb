{
 "cells": [
  {
   "cell_type": "markdown",
   "id": "2fc49f33-4105-45ee-b0d3-266a83a80fdb",
   "metadata": {},
   "source": [
    "# Indian Takeaway Orders Dataset - Analysis using PySpark"
   ]
  },
  {
   "cell_type": "markdown",
   "id": "1bb05f16-34f0-4735-9d21-5431ddc8e4fb",
   "metadata": {},
   "source": [
    "#### Imports"
   ]
  },
  {
   "cell_type": "code",
   "execution_count": 1,
   "id": "7d01c9b9-abd3-4bf0-9792-882be23d5be0",
   "metadata": {},
   "outputs": [],
   "source": [
    "from pyspark.sql import SparkSession\n",
    "from pyspark.sql.functions import to_timestamp, col, sum, count, first, countDistinct"
   ]
  },
  {
   "cell_type": "markdown",
   "id": "86c02cb0-ea79-425b-8947-2cfb34b3c6d2",
   "metadata": {},
   "source": [
    "#### Start Session"
   ]
  },
  {
   "cell_type": "code",
   "execution_count": 2,
   "id": "7d1ce0d9-39c2-46af-9d26-027864392f51",
   "metadata": {},
   "outputs": [
    {
     "name": "stdout",
     "output_type": "stream",
     "text": [
      "3.5.0\n"
     ]
    }
   ],
   "source": [
    "spark = SparkSession.builder.appName(\"MyApp\").getOrCreate()\n",
    "print(spark.version)"
   ]
  },
  {
   "cell_type": "markdown",
   "id": "8b6a7e00-aa72-4467-9feb-8bf0201943d6",
   "metadata": {},
   "source": [
    "## Load CSV Files"
   ]
  },
  {
   "cell_type": "markdown",
   "id": "43efd61d-e8a3-467a-a598-7a86299aba6a",
   "metadata": {},
   "source": [
    "#### Restaurant 1"
   ]
  },
  {
   "cell_type": "code",
   "execution_count": 3,
   "id": "3ff62f76-1cff-40d5-8796-5be1c4ce66e3",
   "metadata": {},
   "outputs": [
    {
     "name": "stdout",
     "output_type": "stream",
     "text": [
      "+------------+----------------+-------------------+--------+-------------+--------------+\n",
      "|Order Number|      Order Date|          Item Name|Quantity|Product Price|Total products|\n",
      "+------------+----------------+-------------------+--------+-------------+--------------+\n",
      "|       16118|03/08/2019 20:25|      Plain Papadum|       2|          0.8|             6|\n",
      "|       16118|03/08/2019 20:25|   King Prawn Balti|       1|        12.95|             6|\n",
      "|       16118|03/08/2019 20:25|        Garlic Naan|       1|         2.95|             6|\n",
      "|       16118|03/08/2019 20:25|      Mushroom Rice|       1|         3.95|             6|\n",
      "|       16118|03/08/2019 20:25|Paneer Tikka Masala|       1|         8.95|             6|\n",
      "+------------+----------------+-------------------+--------+-------------+--------------+\n",
      "only showing top 5 rows\n",
      "\n"
     ]
    }
   ],
   "source": [
    "# Load orders file\n",
    "r1_orders_df = spark.read.csv(\"restaurant-1-orders.csv\", header = True, inferSchema = True)\n",
    "r1_orders_df.show(5)"
   ]
  },
  {
   "cell_type": "code",
   "execution_count": 4,
   "id": "3280f493-d28a-4b50-8919-e701fb93217a",
   "metadata": {},
   "outputs": [
    {
     "name": "stdout",
     "output_type": "stream",
     "text": [
      "+-------------+-------------+\n",
      "|    Item Name|Product Price|\n",
      "+-------------+-------------+\n",
      "|   Mint Sauce|          0.5|\n",
      "|  Lime Pickle|          0.5|\n",
      "|Mango Chutney|          0.5|\n",
      "|    Red Sauce|          0.5|\n",
      "|Onion Chutney|          0.5|\n",
      "+-------------+-------------+\n",
      "only showing top 5 rows\n",
      "\n"
     ]
    }
   ],
   "source": [
    "# Load products price file\n",
    "r1_prices_df = spark.read.csv(\"restaurant-1-products-price.csv\", header = True, inferSchema = True)\n",
    "r1_prices_df.show(5)"
   ]
  },
  {
   "cell_type": "markdown",
   "id": "28e7cb3e-7b43-49f3-8365-8637cc984d44",
   "metadata": {},
   "source": [
    "#### Restaurant 2"
   ]
  },
  {
   "cell_type": "code",
   "execution_count": 5,
   "id": "f28c7901-b562-4fe6-8851-22ff6fa1bcad",
   "metadata": {},
   "outputs": [
    {
     "name": "stdout",
     "output_type": "stream",
     "text": [
      "+--------+----------------+--------------------+--------+-------------+--------------+\n",
      "|Order ID|      Order Date|           Item Name|Quantity|Product Price|Total products|\n",
      "+--------+----------------+--------------------+--------+-------------+--------------+\n",
      "|   25583|03/08/2019 21:58|Tandoori Mixed Grill|       1|        11.95|            12|\n",
      "|   25583|03/08/2019 21:58|        Madras Sauce|       1|         3.95|            12|\n",
      "|   25583|03/08/2019 21:58|       Mushroom Rice|       2|         3.95|            12|\n",
      "|   25583|03/08/2019 21:58|         Garlic Naan|       1|         2.95|            12|\n",
      "|   25583|03/08/2019 21:58|             Paratha|       1|         2.95|            12|\n",
      "+--------+----------------+--------------------+--------+-------------+--------------+\n",
      "only showing top 5 rows\n",
      "\n"
     ]
    }
   ],
   "source": [
    "# Load orders file\n",
    "r2_orders_df = spark.read.csv(\"restaurant-2-orders.csv\", header = True, inferSchema = True)\n",
    "r2_orders_df.show(5)"
   ]
  },
  {
   "cell_type": "code",
   "execution_count": 6,
   "id": "72b5f310-4a06-4c8f-b5e7-b62ccca21499",
   "metadata": {},
   "outputs": [
    {
     "name": "stdout",
     "output_type": "stream",
     "text": [
      "+-------------+-------------+\n",
      "|    Item Name|Product Price|\n",
      "+-------------+-------------+\n",
      "|Onion Chutney|          0.5|\n",
      "|   Mint Sauce|          0.5|\n",
      "|Mango Chutney|          0.5|\n",
      "|    Red Sauce|          0.5|\n",
      "|  Lime Pickle|          0.5|\n",
      "+-------------+-------------+\n",
      "only showing top 5 rows\n",
      "\n"
     ]
    }
   ],
   "source": [
    "# Load products price file\n",
    "r2_prices_df = spark.read.csv(\"restaurant-2-products-price.csv\", header = True, inferSchema = True)\n",
    "r2_prices_df.show(5)"
   ]
  },
  {
   "cell_type": "markdown",
   "id": "f5e9e672-c07f-4ca1-8153-9fd58ebb111e",
   "metadata": {},
   "source": [
    "## Data Exploration"
   ]
  },
  {
   "cell_type": "markdown",
   "id": "943712e3-0221-49dd-aa5b-5aadfc1a72db",
   "metadata": {},
   "source": [
    "### Check Schemas"
   ]
  },
  {
   "cell_type": "code",
   "execution_count": 7,
   "id": "d0922e29-a848-413a-9a29-a16bf400d3ca",
   "metadata": {},
   "outputs": [
    {
     "name": "stdout",
     "output_type": "stream",
     "text": [
      "Restaurant 1 Orders Schema:\n",
      "root\n",
      " |-- Order Number: integer (nullable = true)\n",
      " |-- Order Date: string (nullable = true)\n",
      " |-- Item Name: string (nullable = true)\n",
      " |-- Quantity: integer (nullable = true)\n",
      " |-- Product Price: double (nullable = true)\n",
      " |-- Total products: integer (nullable = true)\n",
      "\n",
      "Restaurant 2 Orders Schema:\n",
      "root\n",
      " |-- Order ID: integer (nullable = true)\n",
      " |-- Order Date: string (nullable = true)\n",
      " |-- Item Name: string (nullable = true)\n",
      " |-- Quantity: integer (nullable = true)\n",
      " |-- Product Price: double (nullable = true)\n",
      " |-- Total products: integer (nullable = true)\n",
      "\n",
      "Restaurant 1 Prices Schema:\n",
      "root\n",
      " |-- Item Name: string (nullable = true)\n",
      " |-- Product Price: double (nullable = true)\n",
      "\n",
      "Restaurant 2 Prices Schema:\n",
      "root\n",
      " |-- Item Name: string (nullable = true)\n",
      " |-- Product Price: double (nullable = true)\n",
      "\n"
     ]
    }
   ],
   "source": [
    "print(\"Restaurant 1 Orders Schema:\")\n",
    "r1_orders_df.printSchema()\n",
    "print(\"Restaurant 2 Orders Schema:\")\n",
    "r2_orders_df.printSchema()\n",
    "print(\"Restaurant 1 Prices Schema:\")\n",
    "r1_prices_df.printSchema()\n",
    "print(\"Restaurant 2 Prices Schema:\")\n",
    "r2_prices_df.printSchema()"
   ]
  },
  {
   "cell_type": "markdown",
   "id": "bfcc9edd-cbe3-47e4-84bf-0a5a61b0915e",
   "metadata": {},
   "source": [
    "### Number of Total and Unique Orders"
   ]
  },
  {
   "cell_type": "code",
   "execution_count": 8,
   "id": "c941fa3b-633b-4d48-bb4f-8a2d48cd214d",
   "metadata": {},
   "outputs": [
    {
     "name": "stdout",
     "output_type": "stream",
     "text": [
      "Restaurant 1 - Total rows: 74818\n",
      "Restaurant 1 - Unique orders: 13397\n",
      "Restaurant 2 - Total rows: 119183\n",
      "Restaurant 2 - Unique orders: 19658\n"
     ]
    }
   ],
   "source": [
    "print(\"Restaurant 1 - Total rows:\", r1_orders_df.count())\n",
    "print(\"Restaurant 1 - Unique orders:\", r1_orders_df.select(\"Order Number\").distinct().count())\n",
    "\n",
    "print(\"Restaurant 2 - Total rows:\", r2_orders_df.count())\n",
    "print(\"Restaurant 2 - Unique orders:\", r2_orders_df.select(\"Order ID\").distinct().count())"
   ]
  },
  {
   "cell_type": "markdown",
   "id": "425717ad-f253-400f-8b72-da9241f6d2a2",
   "metadata": {},
   "source": [
    "### Summary Stats of Quantities and Prices"
   ]
  },
  {
   "cell_type": "code",
   "execution_count": 9,
   "id": "26c6da3f-2cb8-41a5-92e2-fdd505056fb8",
   "metadata": {},
   "outputs": [
    {
     "name": "stdout",
     "output_type": "stream",
     "text": [
      "Restaurant 1:\n",
      "+-------+------------------+-----------------+\n",
      "|summary|          Quantity|    Product Price|\n",
      "+-------+------------------+-----------------+\n",
      "|  count|             74818|            74818|\n",
      "|   mean|  1.24356438290251|5.286491886982787|\n",
      "| stddev|0.7982073410496792|  3.3382213559897|\n",
      "|    min|                 1|              0.5|\n",
      "|    max|                51|            17.95|\n",
      "+-------+------------------+-----------------+\n",
      "\n",
      "Restaurant 2:\n",
      "+-------+------------------+------------------+\n",
      "|summary|          Quantity|     Product Price|\n",
      "+-------+------------------+------------------+\n",
      "|  count|            119183|            119183|\n",
      "|   mean|1.2488693857345428| 5.108173145502638|\n",
      "| stddev|0.7022026750515845|3.2077047387844217|\n",
      "|    min|                 1|               0.5|\n",
      "|    max|                20|             17.95|\n",
      "+-------+------------------+------------------+\n",
      "\n"
     ]
    }
   ],
   "source": [
    "print(\"Restaurant 1:\")\n",
    "r1_orders_df.describe([\"Quantity\", \"Product Price\"]).show()\n",
    "print(\"Restaurant 2:\")\n",
    "r2_orders_df.describe([\"Quantity\", \"Product Price\"]).show()"
   ]
  },
  {
   "cell_type": "markdown",
   "id": "5fcfd481-b75b-4ee1-bcdc-34bcd1c28337",
   "metadata": {},
   "source": [
    "### Top Selling Items by Quantity"
   ]
  },
  {
   "cell_type": "code",
   "execution_count": 10,
   "id": "f6fa8fd0-7b36-4519-9271-5d4ae8776659",
   "metadata": {},
   "outputs": [
    {
     "name": "stdout",
     "output_type": "stream",
     "text": [
      "Restaurant 1:\n",
      "+--------------------+--------------+\n",
      "|           Item Name|Total_Quantity|\n",
      "+--------------------+--------------+\n",
      "|       Plain Papadum|         10648|\n",
      "|          Pilau Rice|          6367|\n",
      "|          Plain Naan|          4983|\n",
      "|         Garlic Naan|          3318|\n",
      "|          Plain Rice|          2964|\n",
      "|        Onion Bhajee|          2749|\n",
      "|       Mango Chutney|          2504|\n",
      "|Chicken Tikka Masala|          2473|\n",
      "|             Chapati|          1935|\n",
      "|          Mint Sauce|          1840|\n",
      "+--------------------+--------------+\n",
      "\n"
     ]
    }
   ],
   "source": [
    "# Register the DataFrame as a SQL temporary view\n",
    "r1_orders_df.createOrReplaceTempView(\"r1_orders\")\n",
    "\n",
    "# SQL query\n",
    "top_items_r1 = spark.sql(\"\"\"\n",
    "    SELECT `Item Name`, SUM(Quantity) AS Total_Quantity\n",
    "    FROM r1_orders\n",
    "    GROUP BY `Item Name`\n",
    "    ORDER BY Total_Quantity DESC\n",
    "    LIMIT 10\n",
    "\"\"\")\n",
    "\n",
    "print(\"Restaurant 1:\")\n",
    "top_items_r1.show()\n"
   ]
  },
  {
   "cell_type": "code",
   "execution_count": 11,
   "id": "5361d97d-8866-47b3-9a6e-4b4f6769654b",
   "metadata": {},
   "outputs": [
    {
     "name": "stdout",
     "output_type": "stream",
     "text": [
      "Restaurant 2:\n",
      "+--------------------+--------------+\n",
      "|           Item Name|Total_Quantity|\n",
      "+--------------------+--------------+\n",
      "|       Plain Papadum|         18056|\n",
      "|          Pilau Rice|         11754|\n",
      "|                Naan|          8730|\n",
      "|         Garlic Naan|          4809|\n",
      "|         Bombay Aloo|          4336|\n",
      "|       Mango Chutney|          4124|\n",
      "|Chicken Tikka Masala|          3970|\n",
      "|         Onion Bhaji|          3965|\n",
      "|          Plain Rice|          3532|\n",
      "|       Mushroom Rice|          3424|\n",
      "+--------------------+--------------+\n",
      "\n"
     ]
    }
   ],
   "source": [
    "# Register the DataFrame as a SQL temporary view\n",
    "r2_orders_df.createOrReplaceTempView(\"r2_orders\")\n",
    "\n",
    "# SQL query:\n",
    "top_items_r2 = spark.sql(\"\"\"\n",
    "    SELECT `Item Name`, SUM(Quantity) AS Total_Quantity\n",
    "    FROM r2_orders\n",
    "    GROUP BY `Item Name`\n",
    "    ORDER BY Total_Quantity DESC\n",
    "    LIMIT 10\n",
    "\"\"\")\n",
    "\n",
    "print(\"Restaurant 2:\")\n",
    "top_items_r2.show()\n"
   ]
  },
  {
   "cell_type": "markdown",
   "id": "a174ec2e-d21d-4989-a8ff-3f323dc8981c",
   "metadata": {},
   "source": [
    "### Total Revenue per Order"
   ]
  },
  {
   "cell_type": "code",
   "execution_count": 12,
   "id": "5c59448f-12ba-48c0-8e53-ce8f73727738",
   "metadata": {},
   "outputs": [
    {
     "name": "stdout",
     "output_type": "stream",
     "text": [
      "Restaurant 1:\n",
      "+------------+------------------+\n",
      "|Order Number|           Revenue|\n",
      "+------------+------------------+\n",
      "|        6769|            1242.0|\n",
      "|        6768|            685.25|\n",
      "|       15840| 660.4499999999999|\n",
      "|        9412| 581.9999999999999|\n",
      "|        9411| 460.7499999999997|\n",
      "|        9374|432.04999999999995|\n",
      "|        9413|289.64999999999986|\n",
      "|        3976|268.49999999999994|\n",
      "|        9804|231.89999999999995|\n",
      "|        9414|224.84999999999988|\n",
      "+------------+------------------+\n",
      "only showing top 10 rows\n",
      "\n"
     ]
    }
   ],
   "source": [
    "rev_per_order_r1 = spark.sql(\"\"\"\n",
    "    SELECT `Order Number`, SUM(Quantity * `Product Price`) AS Revenue\n",
    "    FROM r1_orders\n",
    "    GROUP BY `Order Number`\n",
    "    ORDER BY Revenue DESC\n",
    "\"\"\")\n",
    "\n",
    "print(\"Restaurant 1:\")\n",
    "rev_per_order_r1.show(10)"
   ]
  },
  {
   "cell_type": "code",
   "execution_count": 13,
   "id": "62732222-1473-48a2-9895-73e0ae6007c3",
   "metadata": {},
   "outputs": [
    {
     "name": "stdout",
     "output_type": "stream",
     "text": [
      "Restaurant 2:\n",
      "+--------+------------------+\n",
      "|Order ID|           Revenue|\n",
      "+--------+------------------+\n",
      "|    7952|             283.3|\n",
      "|   13246|234.50000000000006|\n",
      "|   14224|193.45000000000005|\n",
      "|   19569|183.65000000000003|\n",
      "|   22328|182.34999999999997|\n",
      "|   24856|175.95000000000002|\n",
      "|   21984|171.04999999999998|\n",
      "|    5170|167.60000000000002|\n",
      "|   24855|             167.0|\n",
      "|   17228|166.60000000000002|\n",
      "+--------+------------------+\n",
      "only showing top 10 rows\n",
      "\n"
     ]
    }
   ],
   "source": [
    "rev_per_order_r2 = spark.sql(\"\"\"\n",
    "    SELECT `Order ID`, SUM(Quantity * `Product Price`) AS Revenue\n",
    "    FROM r2_orders\n",
    "    GROUP BY `Order ID`\n",
    "    ORDER BY Revenue DESC\n",
    "\"\"\")\n",
    "\n",
    "print(\"Restaurant 2:\")\n",
    "rev_per_order_r2.show(10)"
   ]
  },
  {
   "cell_type": "markdown",
   "id": "d1ddc6f1-0879-4ead-85c9-adc5be4bb9f4",
   "metadata": {},
   "source": [
    "(Change either Order ID or Order Number later)"
   ]
  },
  {
   "cell_type": "markdown",
   "id": "36c583e4-2ac8-4841-9534-befdafdbfdc3",
   "metadata": {},
   "source": [
    "### First and Last Orders"
   ]
  },
  {
   "cell_type": "code",
   "execution_count": 14,
   "id": "c81227c5-7f36-41d5-9c06-be279b900316",
   "metadata": {},
   "outputs": [],
   "source": [
    "#r1_orders_df.select(\n",
    "  #  min(\"Order Date\").alias(\"First_Order\"),\n",
    " #   max(\"Order Date\").alias(\"Last_Order\")\n",
    "#).show()"
   ]
  },
  {
   "cell_type": "markdown",
   "id": "d48732dd-a6e3-45cc-84b8-c76ae68e5a48",
   "metadata": {},
   "source": [
    "## Data Cleaning"
   ]
  },
  {
   "cell_type": "markdown",
   "id": "43e089fe-ed40-4bc2-8d07-d97975f1545b",
   "metadata": {},
   "source": [
    "### Column Names & Data Types"
   ]
  },
  {
   "cell_type": "markdown",
   "id": "6fa413ec-dfff-42ef-902a-a58c502cb85c",
   "metadata": {},
   "source": [
    "#### Convert Order Date to Timestamp"
   ]
  },
  {
   "cell_type": "code",
   "execution_count": 15,
   "id": "c42f90cb-4e60-45b6-ac69-43b10e07bd76",
   "metadata": {},
   "outputs": [
    {
     "name": "stdout",
     "output_type": "stream",
     "text": [
      "Restaurant 1: TimestampType(), Restaurant 2: TimestampType()\n"
     ]
    }
   ],
   "source": [
    "# Import to_timestamp\n",
    "r1_orders_df = r1_orders_df.withColumn(\"Order Date\", to_timestamp(\"Order Date\", \"dd/MM/yyyy HH:mm\"))\n",
    "r2_orders_df = r2_orders_df.withColumn(\"Order Date\", to_timestamp(\"Order Date\", \"dd/MM/yyyy HH:mm\"))\n",
    "\n",
    "# Check\n",
    "print(f\"Restaurant 1: {r1_orders_df.schema['Order Date'].dataType}, Restaurant 2: {r2_orders_df.schema['Order Date'].dataType}\")"
   ]
  },
  {
   "cell_type": "markdown",
   "id": "68158e29-65b6-421d-a155-039bed653a2f",
   "metadata": {},
   "source": [
    "#### Rename `Order Number` to `Order ID` for Restaurant 1\n",
    "(Both tables with the same column name)"
   ]
  },
  {
   "cell_type": "code",
   "execution_count": 31,
   "id": "577d0f5a-41f7-495c-b751-dc109ac628cd",
   "metadata": {},
   "outputs": [
    {
     "name": "stdout",
     "output_type": "stream",
     "text": [
      "+--------+\n",
      "|Order ID|\n",
      "+--------+\n",
      "|   16118|\n",
      "+--------+\n",
      "only showing top 1 row\n",
      "\n"
     ]
    }
   ],
   "source": [
    "r1_orders_df = r1_orders_df.withColumnRenamed(\"Order Number\", \"Order ID\")\n",
    "r1_orders_df.select(\"Order ID\").show(1)"
   ]
  },
  {
   "cell_type": "markdown",
   "id": "ab4fe365-3ff4-4042-96ee-dd914b679a03",
   "metadata": {},
   "source": [
    "### Functions for Printic Specific Order"
   ]
  },
  {
   "cell_type": "code",
   "execution_count": null,
   "id": "ac2792f5-314b-43fe-a7c4-5cab59471c6d",
   "metadata": {},
   "outputs": [],
   "source": [
    "# Register the DataFrame as a SQL temporary view\n",
    "r1_orders_df.createOrReplaceTempView(\"r1_orders\")\n",
    "r2_orders_df.createOrReplaceTempView(\"r2_orders\")"
   ]
  },
  {
   "cell_type": "code",
   "execution_count": 37,
   "id": "f95ee449-8c00-4364-b94f-ff7e7719dd71",
   "metadata": {},
   "outputs": [],
   "source": [
    "def check_order_r1(order_id):\n",
    "    order = spark.sql(f\"\"\"\n",
    "        SELECT * FROM r1_orders\n",
    "        WHERE `Order ID` = {order_id}\n",
    "    \"\"\")\n",
    "    order.show()\n",
    "\n",
    "def check_order_r2(order_id):\n",
    "    order = spark.sql(f\"\"\"\n",
    "        SELECT * FROM r2_orders\n",
    "        WHERE `Order ID` = {order_id}\n",
    "    \"\"\")\n",
    "    order.show()"
   ]
  },
  {
   "cell_type": "markdown",
   "id": "b0bf2af8-7570-470e-91b0-57dc76afb7bb",
   "metadata": {},
   "source": [
    "### Check for Missing Values"
   ]
  },
  {
   "cell_type": "code",
   "execution_count": 17,
   "id": "3ad88a6b-6cc7-48f1-80a6-2ce1a0d84250",
   "metadata": {},
   "outputs": [],
   "source": [
    "dfs = {\n",
    "    \"Restaurant 1 Orders\": r1_orders_df,\n",
    "    \"Restaurant 2 Orders\": r2_orders_df,\n",
    "    \"Restaurant 1 Products\": r1_prices_df,\n",
    "    \"Restaurant 2 Products\": r2_prices_df\n",
    "}"
   ]
  },
  {
   "cell_type": "code",
   "execution_count": 18,
   "id": "bb12d4f3-007f-4e19-be9d-e85d2a67bc1c",
   "metadata": {},
   "outputs": [
    {
     "name": "stdout",
     "output_type": "stream",
     "text": [
      "\n",
      "Restaurant 1 Orders - Missing values:\n",
      "+--------+----------+---------+--------+-------------+--------------+\n",
      "|Order ID|Order Date|Item Name|Quantity|Product Price|Total products|\n",
      "+--------+----------+---------+--------+-------------+--------------+\n",
      "|       0|         0|        0|       0|            0|             0|\n",
      "+--------+----------+---------+--------+-------------+--------------+\n",
      "\n",
      "\n",
      "Restaurant 2 Orders - Missing values:\n",
      "+--------+----------+---------+--------+-------------+--------------+\n",
      "|Order ID|Order Date|Item Name|Quantity|Product Price|Total products|\n",
      "+--------+----------+---------+--------+-------------+--------------+\n",
      "|       0|         0|        0|       0|            0|             0|\n",
      "+--------+----------+---------+--------+-------------+--------------+\n",
      "\n",
      "\n",
      "Restaurant 1 Products - Missing values:\n",
      "+---------+-------------+\n",
      "|Item Name|Product Price|\n",
      "+---------+-------------+\n",
      "|        0|            0|\n",
      "+---------+-------------+\n",
      "\n",
      "\n",
      "Restaurant 2 Products - Missing values:\n",
      "+---------+-------------+\n",
      "|Item Name|Product Price|\n",
      "+---------+-------------+\n",
      "|        0|            0|\n",
      "+---------+-------------+\n",
      "\n"
     ]
    }
   ],
   "source": [
    "for name, df in dfs.items():\n",
    "    print(f\"\\n{name} - Missing values:\")\n",
    "    df.select([sum(col(c).isNull().cast(\"int\")).alias(c) for c in df.columns]).show()"
   ]
  },
  {
   "cell_type": "markdown",
   "id": "f7f09366-3d4a-48e6-9e25-5c1450aceefd",
   "metadata": {},
   "source": [
    "### Check for Duplicates"
   ]
  },
  {
   "cell_type": "code",
   "execution_count": null,
   "id": "d35ddf78-b937-40ee-9780-9517fe83208c",
   "metadata": {},
   "outputs": [],
   "source": []
  },
  {
   "cell_type": "code",
   "execution_count": 20,
   "id": "d46fe452-28c9-438e-ae59-549bac35da47",
   "metadata": {},
   "outputs": [
    {
     "name": "stdout",
     "output_type": "stream",
     "text": [
      "\n",
      "Restaurant 1 Orders duplicate rows:\n",
      "+--------+-------------------+------------+--------+-------------+--------------+-----+\n",
      "|Order ID|         Order Date|   Item Name|Quantity|Product Price|Total products|count|\n",
      "+--------+-------------------+------------+--------+-------------+--------------+-----+\n",
      "|    6017|2017-07-12 18:22:00|       Curry|       1|         7.95|             7|    2|\n",
      "|    3570|2016-10-30 19:50:00|    Vindaloo|       1|         7.95|             9|    2|\n",
      "|    3780|2016-11-22 19:30:00|       Korma|       1|         8.95|             7|    2|\n",
      "|    5805|2017-06-24 18:16:00|       Curry|       1|         7.95|             9|    2|\n",
      "|   13220|2019-02-02 18:19:00|Rogon - Lamb|       1|         8.95|             8|    2|\n",
      "+--------+-------------------+------------+--------+-------------+--------------+-----+\n",
      "only showing top 5 rows\n",
      "\n",
      "Total duplicate rows count: 97\n",
      "\n",
      "Restaurant 2 Orders duplicate rows:\n",
      "+--------+-------------------+----------+--------+-------------+--------------+-----+\n",
      "|Order ID|         Order Date| Item Name|Quantity|Product Price|Total products|count|\n",
      "+--------+-------------------+----------+--------+-------------+--------------+-----+\n",
      "|    5548|2016-09-11 17:51:00|     Curry|       1|         7.95|             7|    2|\n",
      "|   25495|2019-07-30 19:55:00|Lamb Balti|       2|         9.95|             3|    2|\n",
      "|    7133|2016-12-17 19:47:00|    Madras|       1|         7.95|             9|    2|\n",
      "|    5979|2016-10-08 16:37:00|     Curry|       1|         7.95|             6|    2|\n",
      "|   11288|2017-08-20 15:39:00|  Vindaloo|       1|         7.95|            11|    2|\n",
      "+--------+-------------------+----------+--------+-------------+--------------+-----+\n",
      "only showing top 5 rows\n",
      "\n",
      "Total duplicate rows count: 178\n",
      "\n",
      "Restaurant 1 Products duplicate rows:\n",
      "+---------+-------------+-----+\n",
      "|Item Name|Product Price|count|\n",
      "+---------+-------------+-----+\n",
      "+---------+-------------+-----+\n",
      "\n",
      "Total duplicate rows count: None\n",
      "\n",
      "Restaurant 2 Products duplicate rows:\n",
      "+---------+-------------+-----+\n",
      "|Item Name|Product Price|count|\n",
      "+---------+-------------+-----+\n",
      "+---------+-------------+-----+\n",
      "\n",
      "Total duplicate rows count: None\n"
     ]
    }
   ],
   "source": [
    "for name, df in dfs.items():\n",
    "    dup_rows = df.groupBy(df.columns).count().filter(col(\"count\") > 1)\n",
    "    print(f\"\\n{name} duplicate rows:\")\n",
    "    dup_rows.show(5)\n",
    "\n",
    "    # Sum up the duplicate counts\n",
    "    total_dup_count = dup_rows.select(sum(col(\"count\") - 1).alias(\"total_duplicates\")).collect()[0][\"total_duplicates\"]\n",
    "    print(f\"Total duplicate rows count: {total_dup_count}\")"
   ]
  },
  {
   "cell_type": "markdown",
   "id": "7448d799-8a59-4ded-8c4d-bcb3d857dd4a",
   "metadata": {},
   "source": [
    "#### Remove Dupliates"
   ]
  },
  {
   "cell_type": "code",
   "execution_count": 21,
   "id": "eefdf702-9c78-4468-ba8d-38be63c615b7",
   "metadata": {},
   "outputs": [
    {
     "name": "stdout",
     "output_type": "stream",
     "text": [
      "Restaurant 1 Orders: 97 rows removed\n"
     ]
    }
   ],
   "source": [
    "deduped_r1_df = r1_orders_df.dropDuplicates()\n",
    "\n",
    "#Check\n",
    "print(f\"Restaurant 1 Orders: {r1_orders_df.count() - deduped_r1_df.count()} rows removed\")"
   ]
  },
  {
   "cell_type": "code",
   "execution_count": 22,
   "id": "33d679e9-6ccf-47a4-88cf-14c6862b7c33",
   "metadata": {},
   "outputs": [
    {
     "name": "stdout",
     "output_type": "stream",
     "text": [
      "Restaurant 2 Orders: 178 rows removed\n"
     ]
    }
   ],
   "source": [
    "deduped_r2_df = r2_orders_df.dropDuplicates()\n",
    "\n",
    "#Check\n",
    "print(f\"Restaurant 2 Orders: {r2_orders_df.count() - deduped_r2_df.count()} rows removed\")"
   ]
  },
  {
   "cell_type": "markdown",
   "id": "9f39b29c-dae5-4072-a720-5d1d6e40bb5a",
   "metadata": {},
   "source": [
    "#### Total products column - is it correct for all orders?"
   ]
  },
  {
   "cell_type": "code",
   "execution_count": 46,
   "id": "78ded15e-09af-466b-b776-b8a471668c47",
   "metadata": {},
   "outputs": [
    {
     "name": "stdout",
     "output_type": "stream",
     "text": [
      "+--------+-------------------+--------------------+--------+-------------+--------------+\n",
      "|Order ID|         Order Date|           Item Name|Quantity|Product Price|Total products|\n",
      "+--------+-------------------+--------------------+--------+-------------+--------------+\n",
      "|    8638|2017-03-14 18:12:00|                Naan|       2|          2.5|             9|\n",
      "|    8638|2017-03-14 18:12:00|          Pilau Rice|       5|         2.95|             9|\n",
      "|    8638|2017-03-14 18:12:00|         Garlic Naan|       2|         2.95|             9|\n",
      "|    8638|2017-03-14 18:12:00|           Saag Rice|       1|         3.95|             9|\n",
      "|    8638|2017-03-14 18:12:00|       Muttar Paneer|       2|         5.95|             9|\n",
      "|    8638|2017-03-14 18:12:00|          Tarka Dall|       1|         5.95|             9|\n",
      "|    8638|2017-03-14 18:12:00|               Curry|       1|         7.95|             9|\n",
      "|    8638|2017-03-14 18:12:00|Chicken Tikka Karahi|       1|         9.95|             9|\n",
      "|    8638|2017-03-14 18:12:00|               Curry|       2|        11.95|             9|\n",
      "+--------+-------------------+--------------------+--------+-------------+--------------+\n",
      "\n"
     ]
    }
   ],
   "source": [
    "# Explore individual orders\n",
    "check_order_r2(8638)"
   ]
  },
  {
   "cell_type": "markdown",
   "id": "23b2058f-e55e-4713-9f92-36f3373655ad",
   "metadata": {},
   "source": [
    "Total products must mean distinct products rather than total quantity"
   ]
  },
  {
   "cell_type": "code",
   "execution_count": 44,
   "id": "a312d75b-9eba-4c67-b171-d2e08fe30411",
   "metadata": {},
   "outputs": [],
   "source": [
    "dfs = {\n",
    "    \"Restaurant 1 Orders\": r1_orders_df,\n",
    "    \"Restaurant 2 Orders\": r2_orders_df,\n",
    "    \"Restaurant 1 Orders Deduped\": deduped_r1_df,\n",
    "    \"Restaurant 2 Orders Deduped\": deduped_r2_df\n",
    "}"
   ]
  },
  {
   "cell_type": "code",
   "execution_count": 45,
   "id": "0155fc5b-49e5-437a-9d57-a3705d75f5e3",
   "metadata": {},
   "outputs": [
    {
     "name": "stdout",
     "output_type": "stream",
     "text": [
      "Restaurant 1 Orders: Number of orders where distinct products count != total products reported: 299\n",
      "Restaurant 2 Orders: Number of orders where distinct products count != total products reported: 326\n",
      "Restaurant 1 Orders Deduped: Number of orders where distinct products count != total products reported: 299\n",
      "Restaurant 2 Orders Deduped: Number of orders where distinct products count != total products reported: 326\n"
     ]
    }
   ],
   "source": [
    "# Number of products with incorrect total products column\n",
    "for name, df in dfs.items():\n",
    "    # Only run if the relevant columns exist (to avoid errors)\n",
    "    required_cols = {\"Order ID\", \"Item Name\", \"Quantity\", \"Total products\"}\n",
    "    if required_cols.issubset(set(df.columns)):\n",
    "        order_summary = df.groupBy(\"Order ID\").agg(\n",
    "            countDistinct(\"Item Name\").alias(\"distinct_products_count\"),\n",
    "            sum(\"Quantity\").alias(\"total_quantity\"),\n",
    "            first(\"Total products\").alias(\"total_products_reported\")\n",
    "        )\n",
    "        mismatched_orders = order_summary.filter(\n",
    "            col(\"distinct_products_count\") != col(\"total_products_reported\")\n",
    "        )\n",
    "        count_mismatches = mismatched_orders.select(\"Order ID\").distinct().count()\n",
    "        print(f\"{name}: Number of orders where distinct products count != total products reported: {count_mismatches}\")\n",
    "    else:\n",
    "        print(f\"{name}: Skipped because required columns not present.\")"
   ]
  },
  {
   "cell_type": "markdown",
   "id": "eb082fc0-a9c6-4b50-87dc-2f7ea5fbd451",
   "metadata": {},
   "source": [
    "Checked if removing duplicates affected this - it didn't\n",
    "\n"
   ]
  },
  {
   "cell_type": "code",
   "execution_count": 47,
   "id": "42e62944-6778-492e-a0da-5c190c6b9a0d",
   "metadata": {},
   "outputs": [
    {
     "name": "stdout",
     "output_type": "stream",
     "text": [
      "\n",
      "Restaurant 1 Orders Deduped: Showing mismatched orders\n",
      "+--------+-----------------------+-----------------------+\n",
      "|Order ID|distinct_products_count|total_products_reported|\n",
      "+--------+-----------------------+-----------------------+\n",
      "|    7340|                     11|                     12|\n",
      "|    2711|                      7|                      8|\n",
      "|    4489|                      4|                      5|\n",
      "|    4364|                      8|                      9|\n",
      "|    5682|                      5|                      6|\n",
      "|    5110|                      5|                      6|\n",
      "|    8450|                      2|                      3|\n",
      "|    2035|                     11|                     12|\n",
      "|    1808|                      3|                      4|\n",
      "|     857|                      1|                      4|\n",
      "+--------+-----------------------+-----------------------+\n",
      "only showing top 10 rows\n",
      "\n",
      "\n",
      "Restaurant 2 Orders Deduped: Showing mismatched orders\n",
      "+--------+-----------------------+-----------------------+\n",
      "|Order ID|distinct_products_count|total_products_reported|\n",
      "+--------+-----------------------+-----------------------+\n",
      "|    8638|                      8|                      9|\n",
      "|   15538|                      5|                      6|\n",
      "|   10708|                      8|                      9|\n",
      "|    5155|                      6|                      7|\n",
      "|    9946|                      9|                     10|\n",
      "|   14315|                      4|                      5|\n",
      "|   10468|                      8|                      9|\n",
      "|    6154|                     11|                     12|\n",
      "|    2096|                      7|                      8|\n",
      "|    7576|                      6|                      7|\n",
      "+--------+-----------------------+-----------------------+\n",
      "only showing top 10 rows\n",
      "\n"
     ]
    }
   ],
   "source": [
    "dfs = {\n",
    "    \"Restaurant 1 Orders Deduped\": deduped_r1_df,\n",
    "    \"Restaurant 2 Orders Deduped\": deduped_r2_df\n",
    "}\n",
    "\n",
    "for name, df in dfs.items():\n",
    "    order_summary = df.groupBy(\"Order ID\").agg(\n",
    "        countDistinct(\"Item Name\").alias(\"distinct_products_count\"),\n",
    "        first(\"Total products\").alias(\"total_products_reported\")\n",
    "    )\n",
    "\n",
    "    mismatched_orders = order_summary.filter(\n",
    "        col(\"distinct_products_count\") != col(\"total_products_reported\")\n",
    "    )\n",
    "\n",
    "    print(f\"\\n{name}: Showing mismatched orders\")\n",
    "    mismatched_orders.show(10)"
   ]
  },
  {
   "cell_type": "code",
   "execution_count": 48,
   "id": "cfec9b3f-6c3a-4649-840a-079581df89bf",
   "metadata": {},
   "outputs": [
    {
     "name": "stdout",
     "output_type": "stream",
     "text": [
      "+--------+-------------------+--------------------+--------+-------------+--------------+\n",
      "|Order ID|         Order Date|           Item Name|Quantity|Product Price|Total products|\n",
      "+--------+-------------------+--------------------+--------+-------------+--------------+\n",
      "|    2096|2015-12-16 19:14:00|          Keema Naan|       1|         2.95|             8|\n",
      "|    2096|2015-12-16 19:14:00|         Kulcha Naan|       1|         2.95|             8|\n",
      "|    2096|2015-12-16 19:14:00|          Plain Rice|       1|         2.95|             8|\n",
      "|    2096|2015-12-16 19:14:00|       Peshwari Naan|       1|         2.95|             8|\n",
      "|    2096|2015-12-16 19:14:00|         Bombay Aloo|       1|         5.95|             8|\n",
      "|    2096|2015-12-16 19:14:00|           Aloo Gobi|       1|         5.95|             8|\n",
      "|    2096|2015-12-16 19:14:00|Chicken Tikka Jal...|       1|         8.95|             8|\n",
      "+--------+-------------------+--------------------+--------+-------------+--------------+\n",
      "\n"
     ]
    }
   ],
   "source": [
    "check_order_r2(2096)"
   ]
  },
  {
   "cell_type": "code",
   "execution_count": null,
   "id": "07326a34-a409-4a6f-b189-f53cb11ce18e",
   "metadata": {},
   "outputs": [],
   "source": []
  }
 ],
 "metadata": {
  "kernelspec": {
   "display_name": "Python 3 (ipykernel)",
   "language": "python",
   "name": "python3"
  },
  "language_info": {
   "codemirror_mode": {
    "name": "ipython",
    "version": 3
   },
   "file_extension": ".py",
   "mimetype": "text/x-python",
   "name": "python",
   "nbconvert_exporter": "python",
   "pygments_lexer": "ipython3",
   "version": "3.11.6"
  }
 },
 "nbformat": 4,
 "nbformat_minor": 5
}
