{
 "cells": [
  {
   "cell_type": "markdown",
   "id": "2fc49f33-4105-45ee-b0d3-266a83a80fdb",
   "metadata": {},
   "source": [
    "# Indian Takeaway Orders Dataset - Analysis using PySpark"
   ]
  },
  {
   "cell_type": "code",
   "execution_count": 7,
   "id": "7d1ce0d9-39c2-46af-9d26-027864392f51",
   "metadata": {},
   "outputs": [
    {
     "name": "stdout",
     "output_type": "stream",
     "text": [
      "3.5.0\n"
     ]
    }
   ],
   "source": [
    "from pyspark.sql import SparkSession\n",
    "\n",
    "spark = SparkSession.builder.appName(\"MyApp\").getOrCreate()\n",
    "print(spark.version)"
   ]
  },
  {
   "cell_type": "markdown",
   "id": "8b6a7e00-aa72-4467-9feb-8bf0201943d6",
   "metadata": {},
   "source": [
    "## Load CSV Files"
   ]
  },
  {
   "cell_type": "markdown",
   "id": "43efd61d-e8a3-467a-a598-7a86299aba6a",
   "metadata": {},
   "source": [
    "#### Restaurant 1"
   ]
  },
  {
   "cell_type": "code",
   "execution_count": 8,
   "id": "3ff62f76-1cff-40d5-8796-5be1c4ce66e3",
   "metadata": {},
   "outputs": [
    {
     "name": "stdout",
     "output_type": "stream",
     "text": [
      "+------------+----------------+-------------------+--------+-------------+--------------+\n",
      "|Order Number|      Order Date|          Item Name|Quantity|Product Price|Total products|\n",
      "+------------+----------------+-------------------+--------+-------------+--------------+\n",
      "|       16118|03/08/2019 20:25|      Plain Papadum|       2|          0.8|             6|\n",
      "|       16118|03/08/2019 20:25|   King Prawn Balti|       1|        12.95|             6|\n",
      "|       16118|03/08/2019 20:25|        Garlic Naan|       1|         2.95|             6|\n",
      "|       16118|03/08/2019 20:25|      Mushroom Rice|       1|         3.95|             6|\n",
      "|       16118|03/08/2019 20:25|Paneer Tikka Masala|       1|         8.95|             6|\n",
      "+------------+----------------+-------------------+--------+-------------+--------------+\n",
      "only showing top 5 rows\n",
      "\n"
     ]
    }
   ],
   "source": [
    "# Load orders file\n",
    "r1_orders_df = spark.read.csv(\"restaurant-1-orders.csv\", header = True, inferSchema = True)\n",
    "r1_orders_df.show(5)"
   ]
  },
  {
   "cell_type": "code",
   "execution_count": 9,
   "id": "3280f493-d28a-4b50-8919-e701fb93217a",
   "metadata": {},
   "outputs": [
    {
     "name": "stdout",
     "output_type": "stream",
     "text": [
      "+-------------+-------------+\n",
      "|    Item Name|Product Price|\n",
      "+-------------+-------------+\n",
      "|   Mint Sauce|          0.5|\n",
      "|  Lime Pickle|          0.5|\n",
      "|Mango Chutney|          0.5|\n",
      "|    Red Sauce|          0.5|\n",
      "|Onion Chutney|          0.5|\n",
      "+-------------+-------------+\n",
      "only showing top 5 rows\n",
      "\n"
     ]
    }
   ],
   "source": [
    "# Load products price file\n",
    "r1_prices_df = spark.read.csv(\"restaurant-1-products-price.csv\", header = True, inferSchema = True)\n",
    "r1_prices_df.show(5)"
   ]
  },
  {
   "cell_type": "markdown",
   "id": "28e7cb3e-7b43-49f3-8365-8637cc984d44",
   "metadata": {},
   "source": [
    "#### Restaurant 2"
   ]
  },
  {
   "cell_type": "code",
   "execution_count": 10,
   "id": "f28c7901-b562-4fe6-8851-22ff6fa1bcad",
   "metadata": {},
   "outputs": [
    {
     "name": "stdout",
     "output_type": "stream",
     "text": [
      "+--------+----------------+--------------------+--------+-------------+--------------+\n",
      "|Order ID|      Order Date|           Item Name|Quantity|Product Price|Total products|\n",
      "+--------+----------------+--------------------+--------+-------------+--------------+\n",
      "|   25583|03/08/2019 21:58|Tandoori Mixed Grill|       1|        11.95|            12|\n",
      "|   25583|03/08/2019 21:58|        Madras Sauce|       1|         3.95|            12|\n",
      "|   25583|03/08/2019 21:58|       Mushroom Rice|       2|         3.95|            12|\n",
      "|   25583|03/08/2019 21:58|         Garlic Naan|       1|         2.95|            12|\n",
      "|   25583|03/08/2019 21:58|             Paratha|       1|         2.95|            12|\n",
      "+--------+----------------+--------------------+--------+-------------+--------------+\n",
      "only showing top 5 rows\n",
      "\n"
     ]
    }
   ],
   "source": [
    "# Load orders file\n",
    "r2_orders_df = spark.read.csv(\"restaurant-2-orders.csv\", header = True, inferSchema = True)\n",
    "r2_orders_df.show(5)"
   ]
  },
  {
   "cell_type": "code",
   "execution_count": 11,
   "id": "72b5f310-4a06-4c8f-b5e7-b62ccca21499",
   "metadata": {},
   "outputs": [
    {
     "name": "stdout",
     "output_type": "stream",
     "text": [
      "+-------------+-------------+\n",
      "|    Item Name|Product Price|\n",
      "+-------------+-------------+\n",
      "|Onion Chutney|          0.5|\n",
      "|   Mint Sauce|          0.5|\n",
      "|Mango Chutney|          0.5|\n",
      "|    Red Sauce|          0.5|\n",
      "|  Lime Pickle|          0.5|\n",
      "+-------------+-------------+\n",
      "only showing top 5 rows\n",
      "\n"
     ]
    }
   ],
   "source": [
    "# Load products price file\n",
    "r2_prices_df = spark.read.csv(\"restaurant-2-products-price.csv\", header = True, inferSchema = True)\n",
    "r2_prices_df.show(5)"
   ]
  },
  {
   "cell_type": "markdown",
   "id": "f5e9e672-c07f-4ca1-8153-9fd58ebb111e",
   "metadata": {},
   "source": [
    "## Data Exploration"
   ]
  },
  {
   "cell_type": "markdown",
   "id": "943712e3-0221-49dd-aa5b-5aadfc1a72db",
   "metadata": {},
   "source": [
    "### Check Schemas"
   ]
  },
  {
   "cell_type": "code",
   "execution_count": 12,
   "id": "d0922e29-a848-413a-9a29-a16bf400d3ca",
   "metadata": {},
   "outputs": [
    {
     "name": "stdout",
     "output_type": "stream",
     "text": [
      "Restaurant 1 Orders Schema:\n",
      "root\n",
      " |-- Order Number: integer (nullable = true)\n",
      " |-- Order Date: string (nullable = true)\n",
      " |-- Item Name: string (nullable = true)\n",
      " |-- Quantity: integer (nullable = true)\n",
      " |-- Product Price: double (nullable = true)\n",
      " |-- Total products: integer (nullable = true)\n",
      "\n",
      "Restaurant 2 Orders Schema:\n",
      "root\n",
      " |-- Order ID: integer (nullable = true)\n",
      " |-- Order Date: string (nullable = true)\n",
      " |-- Item Name: string (nullable = true)\n",
      " |-- Quantity: integer (nullable = true)\n",
      " |-- Product Price: double (nullable = true)\n",
      " |-- Total products: integer (nullable = true)\n",
      "\n",
      "Restaurant 1 Prices Schema:\n",
      "root\n",
      " |-- Item Name: string (nullable = true)\n",
      " |-- Product Price: double (nullable = true)\n",
      "\n",
      "Restaurant 2 Prices Schema:\n",
      "root\n",
      " |-- Item Name: string (nullable = true)\n",
      " |-- Product Price: double (nullable = true)\n",
      "\n"
     ]
    }
   ],
   "source": [
    "print(\"Restaurant 1 Orders Schema:\")\n",
    "r1_orders_df.printSchema()\n",
    "print(\"Restaurant 2 Orders Schema:\")\n",
    "r2_orders_df.printSchema()\n",
    "print(\"Restaurant 1 Prices Schema:\")\n",
    "r1_prices_df.printSchema()\n",
    "print(\"Restaurant 2 Prices Schema:\")\n",
    "r2_prices_df.printSchema()"
   ]
  },
  {
   "cell_type": "markdown",
   "id": "bfcc9edd-cbe3-47e4-84bf-0a5a61b0915e",
   "metadata": {},
   "source": [
    "### Number of Total and Unique Orders"
   ]
  },
  {
   "cell_type": "code",
   "execution_count": 13,
   "id": "c941fa3b-633b-4d48-bb4f-8a2d48cd214d",
   "metadata": {},
   "outputs": [
    {
     "name": "stdout",
     "output_type": "stream",
     "text": [
      "Restaurant 1 - Total rows: 74818\n",
      "Restaurant 1 - Unique orders: 13397\n",
      "Restaurant 2 - Total rows: 119183\n",
      "Restaurant 2 - Unique orders: 19658\n"
     ]
    }
   ],
   "source": [
    "print(\"Restaurant 1 - Total rows:\", r1_orders_df.count())\n",
    "print(\"Restaurant 1 - Unique orders:\", r1_orders_df.select(\"Order Number\").distinct().count())\n",
    "\n",
    "print(\"Restaurant 2 - Total rows:\", r2_orders_df.count())\n",
    "print(\"Restaurant 2 - Unique orders:\", r2_orders_df.select(\"Order ID\").distinct().count())"
   ]
  },
  {
   "cell_type": "markdown",
   "id": "425717ad-f253-400f-8b72-da9241f6d2a2",
   "metadata": {},
   "source": [
    "### Summary Stats of Quantities and Prices"
   ]
  },
  {
   "cell_type": "code",
   "execution_count": 14,
   "id": "26c6da3f-2cb8-41a5-92e2-fdd505056fb8",
   "metadata": {},
   "outputs": [
    {
     "name": "stdout",
     "output_type": "stream",
     "text": [
      "Restaurant 1:\n",
      "+-------+------------------+-----------------+\n",
      "|summary|          Quantity|    Product Price|\n",
      "+-------+------------------+-----------------+\n",
      "|  count|             74818|            74818|\n",
      "|   mean|  1.24356438290251|5.286491886982787|\n",
      "| stddev|0.7982073410496792|  3.3382213559897|\n",
      "|    min|                 1|              0.5|\n",
      "|    max|                51|            17.95|\n",
      "+-------+------------------+-----------------+\n",
      "\n",
      "Restaurant 2:\n",
      "+-------+------------------+------------------+\n",
      "|summary|          Quantity|     Product Price|\n",
      "+-------+------------------+------------------+\n",
      "|  count|            119183|            119183|\n",
      "|   mean|1.2488693857345428| 5.108173145502638|\n",
      "| stddev|0.7022026750515845|3.2077047387844217|\n",
      "|    min|                 1|               0.5|\n",
      "|    max|                20|             17.95|\n",
      "+-------+------------------+------------------+\n",
      "\n"
     ]
    }
   ],
   "source": [
    "print(\"Restaurant 1:\")\n",
    "r1_orders_df.describe([\"Quantity\", \"Product Price\"]).show()\n",
    "print(\"Restaurant 2:\")\n",
    "r2_orders_df.describe([\"Quantity\", \"Product Price\"]).show()"
   ]
  },
  {
   "cell_type": "markdown",
   "id": "5fcfd481-b75b-4ee1-bcdc-34bcd1c28337",
   "metadata": {},
   "source": [
    "### Top Selling Items by Quantity"
   ]
  },
  {
   "cell_type": "code",
   "execution_count": 15,
   "id": "f6fa8fd0-7b36-4519-9271-5d4ae8776659",
   "metadata": {},
   "outputs": [
    {
     "name": "stdout",
     "output_type": "stream",
     "text": [
      "Restaurant 1:\n",
      "+--------------------+--------------+\n",
      "|           Item Name|Total_Quantity|\n",
      "+--------------------+--------------+\n",
      "|       Plain Papadum|         10648|\n",
      "|          Pilau Rice|          6367|\n",
      "|          Plain Naan|          4983|\n",
      "|         Garlic Naan|          3318|\n",
      "|          Plain Rice|          2964|\n",
      "|        Onion Bhajee|          2749|\n",
      "|       Mango Chutney|          2504|\n",
      "|Chicken Tikka Masala|          2473|\n",
      "|             Chapati|          1935|\n",
      "|          Mint Sauce|          1840|\n",
      "+--------------------+--------------+\n",
      "\n"
     ]
    }
   ],
   "source": [
    "# Register the DataFrame as a SQL temporary view\n",
    "r1_orders_df.createOrReplaceTempView(\"r1_orders\")\n",
    "\n",
    "# SQL query\n",
    "top_items_r1 = spark.sql(\"\"\"\n",
    "    SELECT `Item Name`, SUM(Quantity) AS Total_Quantity\n",
    "    FROM r1_orders\n",
    "    GROUP BY `Item Name`\n",
    "    ORDER BY Total_Quantity DESC\n",
    "    LIMIT 10\n",
    "\"\"\")\n",
    "\n",
    "print(\"Restaurant 1:\")\n",
    "top_items_r1.show()\n"
   ]
  },
  {
   "cell_type": "code",
   "execution_count": 16,
   "id": "5361d97d-8866-47b3-9a6e-4b4f6769654b",
   "metadata": {},
   "outputs": [
    {
     "name": "stdout",
     "output_type": "stream",
     "text": [
      "Restaurant 2:\n",
      "+--------------------+--------------+\n",
      "|           Item Name|Total_Quantity|\n",
      "+--------------------+--------------+\n",
      "|       Plain Papadum|         18056|\n",
      "|          Pilau Rice|         11754|\n",
      "|                Naan|          8730|\n",
      "|         Garlic Naan|          4809|\n",
      "|         Bombay Aloo|          4336|\n",
      "|       Mango Chutney|          4124|\n",
      "|Chicken Tikka Masala|          3970|\n",
      "|         Onion Bhaji|          3965|\n",
      "|          Plain Rice|          3532|\n",
      "|       Mushroom Rice|          3424|\n",
      "+--------------------+--------------+\n",
      "\n"
     ]
    }
   ],
   "source": [
    "# Register the DataFrame as a SQL temporary view\n",
    "r2_orders_df.createOrReplaceTempView(\"r2_orders\")\n",
    "\n",
    "# SQL query:\n",
    "top_items_r2 = spark.sql(\"\"\"\n",
    "    SELECT `Item Name`, SUM(Quantity) AS Total_Quantity\n",
    "    FROM r2_orders\n",
    "    GROUP BY `Item Name`\n",
    "    ORDER BY Total_Quantity DESC\n",
    "    LIMIT 10\n",
    "\"\"\")\n",
    "\n",
    "print(\"Restaurant 2:\")\n",
    "top_items_r2.show()\n"
   ]
  },
  {
   "cell_type": "markdown",
   "id": "a174ec2e-d21d-4989-a8ff-3f323dc8981c",
   "metadata": {},
   "source": [
    "### Total Revenue per Order"
   ]
  },
  {
   "cell_type": "code",
   "execution_count": 21,
   "id": "5c59448f-12ba-48c0-8e53-ce8f73727738",
   "metadata": {},
   "outputs": [
    {
     "name": "stdout",
     "output_type": "stream",
     "text": [
      "Restaurant 1:\n",
      "+------------+------------------+\n",
      "|Order Number|           Revenue|\n",
      "+------------+------------------+\n",
      "|        6769|            1242.0|\n",
      "|        6768|            685.25|\n",
      "|       15840| 660.4499999999999|\n",
      "|        9412| 581.9999999999999|\n",
      "|        9411| 460.7499999999997|\n",
      "|        9374|432.04999999999995|\n",
      "|        9413|289.64999999999986|\n",
      "|        3976|268.49999999999994|\n",
      "|        9804|231.89999999999995|\n",
      "|        9414|224.84999999999988|\n",
      "+------------+------------------+\n",
      "only showing top 10 rows\n",
      "\n"
     ]
    }
   ],
   "source": [
    "rev_per_order_r1 = spark.sql(\"\"\"\n",
    "    SELECT `Order Number`, SUM(Quantity * `Product Price`) AS Revenue\n",
    "    FROM r1_orders\n",
    "    GROUP BY `Order Number`\n",
    "    ORDER BY Revenue DESC\n",
    "\"\"\")\n",
    "\n",
    "print(\"Restaurant 1:\")\n",
    "rev_per_order_r1.show(10)"
   ]
  },
  {
   "cell_type": "code",
   "execution_count": 22,
   "id": "62732222-1473-48a2-9895-73e0ae6007c3",
   "metadata": {},
   "outputs": [
    {
     "name": "stdout",
     "output_type": "stream",
     "text": [
      "Restaurant 2:\n",
      "+--------+------------------+\n",
      "|Order ID|           Revenue|\n",
      "+--------+------------------+\n",
      "|    7952|             283.3|\n",
      "|   13246|234.50000000000006|\n",
      "|   14224|193.45000000000005|\n",
      "|   19569|183.65000000000003|\n",
      "|   22328|182.34999999999997|\n",
      "|   24856|175.95000000000002|\n",
      "|   21984|171.04999999999998|\n",
      "|    5170|167.60000000000002|\n",
      "|   24855|             167.0|\n",
      "|   17228|166.60000000000002|\n",
      "+--------+------------------+\n",
      "only showing top 10 rows\n",
      "\n"
     ]
    }
   ],
   "source": [
    "rev_per_order_r2 = spark.sql(\"\"\"\n",
    "    SELECT `Order ID`, SUM(Quantity * `Product Price`) AS Revenue\n",
    "    FROM r2_orders\n",
    "    GROUP BY `Order ID`\n",
    "    ORDER BY Revenue DESC\n",
    "\"\"\")\n",
    "\n",
    "print(\"Restaurant 2:\")\n",
    "rev_per_order_r2.show(10)"
   ]
  },
  {
   "cell_type": "markdown",
   "id": "d1ddc6f1-0879-4ead-85c9-adc5be4bb9f4",
   "metadata": {},
   "source": [
    "(Change either Order ID or Order Number later)"
   ]
  },
  {
   "cell_type": "markdown",
   "id": "36c583e4-2ac8-4841-9534-befdafdbfdc3",
   "metadata": {},
   "source": [
    "### First and Last Orders"
   ]
  },
  {
   "cell_type": "code",
   "execution_count": 20,
   "id": "c81227c5-7f36-41d5-9c06-be279b900316",
   "metadata": {},
   "outputs": [
    {
     "name": "stdout",
     "output_type": "stream",
     "text": [
      "+----------------+\n",
      "| max(Order Date)|\n",
      "+----------------+\n",
      "|31/12/2018 21:56|\n",
      "+----------------+\n",
      "\n",
      "+----------------+\n",
      "| max(Order Date)|\n",
      "+----------------+\n",
      "|31/12/2018 21:07|\n",
      "+----------------+\n",
      "\n"
     ]
    }
   ],
   "source": [
    "r1_orders_df.select(\"Order Date\").agg({\"Order Date\": \"min\", \"Order Date\": \"max\"}).show()\n",
    "r2_orders_df.select(\"Order Date\").agg({\"Order Date\": \"min\", \"Order Date\": \"max\"}).show()"
   ]
  },
  {
   "cell_type": "code",
   "execution_count": null,
   "id": "9a47c266-bce7-437e-88f2-bafeb855f96f",
   "metadata": {},
   "outputs": [],
   "source": []
  }
 ],
 "metadata": {
  "kernelspec": {
   "display_name": "Python 3 (ipykernel)",
   "language": "python",
   "name": "python3"
  },
  "language_info": {
   "codemirror_mode": {
    "name": "ipython",
    "version": 3
   },
   "file_extension": ".py",
   "mimetype": "text/x-python",
   "name": "python",
   "nbconvert_exporter": "python",
   "pygments_lexer": "ipython3",
   "version": "3.11.6"
  }
 },
 "nbformat": 4,
 "nbformat_minor": 5
}
